{
 "cells": [
  {
   "cell_type": "markdown",
   "id": "dafc3251",
   "metadata": {},
   "source": [
    "# UDACITY SageMaker Essentials: Processing Job Exercise"
   ]
  },
  {
   "cell_type": "markdown",
   "id": "05ceebfe",
   "metadata": {},
   "source": [
    "In prior exercises, we've been running and rerunning the same preprocessing\n",
    "job over and over again. For cleanly formatted data, it's possible to do some\n",
    "preprocessing utilizing batch transform. However, if slightly more\n",
    "sophisticated processing is needed, we would want to do so through a\n",
    "processing job. Finally, after beating around the bush for a few exercises,\n",
    "we're finally going offload the preprocessing step of our data!"
   ]
  },
  {
   "cell_type": "code",
   "execution_count": null,
   "id": "3677f6dc",
   "metadata": {},
   "outputs": [],
   "source": [
    "import sklearn\n",
    "import boto3\n",
    "import json"
   ]
  },
  {
   "cell_type": "markdown",
   "id": "1fff8317",
   "metadata": {},
   "source": [
    "## Preprocessing (for the final time!)"
   ]
  },
  {
   "cell_type": "markdown",
   "id": "0db663a5",
   "metadata": {},
   "source": [
    "The cell below should be very familiar to you by now. This cell will write the\n",
    "preprocessing code to a file called \"HelloBlazePreprocess.py\". This code will\n",
    "be utilized by AWS via a SciKitLearn processing interface to process our data."
   ]
  },
  {
   "cell_type": "code",
   "execution_count": null,
   "id": "b4665ac4",
   "metadata": {},
   "outputs": [],
   "source": [
    "%%writefile HelloBlazePreprocess.py\n",
    "\n",
    "import json\n",
    "import zipfile\n",
    "\n",
    "# Function below unzips the archive to the local directory. \n",
    "\n",
    "def unzip_data(input_data_path):\n",
    "    with zipfile.ZipFile(input_data_path, 'r') as input_data_zip:\n",
    "        input_data_zip.extractall('.')\n",
    "        return input_data_zip.namelist()[0]\n",
    "\n",
    "# Input data is a file with a single JSON object per line with the following format: \n",
    "# {\n",
    "#  \"reviewerID\": <string>,\n",
    "#  \"asin\": <string>,\n",
    "#  \"reviewerName\" <string>,\n",
    "#  \"helpful\": [\n",
    "#    <int>, (indicating number of \"helpful votes\")\n",
    "#    <int>  (indicating total number of votes)\n",
    "#  ],\n",
    "#  \"reviewText\": \"<string>\",\n",
    "#  \"overall\": <int>,\n",
    "#  \"summary\": \"<string>\",\n",
    "#  \"unixReviewTime\": <int>,\n",
    "#  \"reviewTime\": \"<string>\"\n",
    "# }\n",
    "# \n",
    "# We are specifically interested in the fields \"helpful\" and \"reviewText\"\n",
    "#\n",
    "\n",
    "def label_data(input_data):\n",
    "    labeled_data = []\n",
    "    HELPFUL_LABEL = \"__label__1\"\n",
    "    UNHELPFUL_LABEL = \"__label__2\"\n",
    "     \n",
    "    for l in open(input_data, 'r'):\n",
    "        l_object = json.loads(l)\n",
    "        helpful_votes = float(l_object['helpful'][0])\n",
    "        total_votes = l_object['helpful'][1]\n",
    "        reviewText = l_object['reviewText']\n",
    "        if total_votes != 0:\n",
    "            if helpful_votes / total_votes > .5:\n",
    "                labeled_data.append(\" \".join([HELPFUL_LABEL, reviewText]))\n",
    "            elif helpful_votes / total_votes < .5:\n",
    "                labeled_data.append(\" \".join([UNHELPFUL_LABEL, reviewText]))\n",
    "          \n",
    "    return labeled_data\n",
    "\n",
    "\n",
    "# Labeled data is a list of sentences, starting with the label defined in label_data. \n",
    "\n",
    "def split_sentences(labeled_data):\n",
    "    new_split_sentences = []\n",
    "    for d in labeled_data:\n",
    "        label = d.split()[0]        \n",
    "        sentences = \" \".join(d.split()[1:]).split(\".\") # Initially split to separate label, then separate sentences\n",
    "        for s in sentences:\n",
    "            if s: # Make sure sentences isn't empty. Common w/ \"...\"\n",
    "                new_split_sentences.append(\" \".join([label, s]))\n",
    "    return new_split_sentences\n",
    "\n",
    "def write_data(data, train_path, test_path, proportion):\n",
    "    border_index = int(proportion * len(data))\n",
    "    train_f = open(train_path, 'w')\n",
    "    test_f = open(test_path, 'w')\n",
    "    index = 0\n",
    "    for d in data:\n",
    "        if index < border_index:\n",
    "            train_f.write(d + '\\n')\n",
    "        else:\n",
    "            test_f.write(d + '\\n')\n",
    "        index += 1\n",
    "\n",
    "if __name__ == \"__main__\":\n",
    "    unzipped_path = unzip_data('/opt/ml/processing/input/Toys_and_Games_5.json.zip')\n",
    "    labeled_data = label_data(unzipped_path)\n",
    "    new_split_sentence_data = split_sentences(labeled_data)\n",
    "    write_data(new_split_sentence_data, '/opt/ml/processing/output/train/hello_blaze_train_scikit', '/opt/ml/processing/output/test/hello_blaze_test_scikit', .9)"
   ]
  },
  {
   "cell_type": "markdown",
   "id": "fba9fed4",
   "metadata": {},
   "source": [
    "## Exercise: Upload unprocessed data to s3"
   ]
  },
  {
   "cell_type": "markdown",
   "id": "0ed741fa",
   "metadata": {},
   "source": [
    "No more local preprocessing! Upload the **raw zipped** `Toys_and_Games`\n",
    "dataset to s3."
   ]
  },
  {
   "cell_type": "code",
   "execution_count": null,
   "id": "12122ae1",
   "metadata": {},
   "outputs": [],
   "source": [
    "# Todo\n",
    "s3_bucket = \"\"\n",
    "s3_prefix = \"\"\n",
    "file_name = \"\"\n",
    "\n",
    "def upload_file_to_s3():\n",
    "    return \n",
    "\n",
    "source_path = \"/\".join([s3_bucket, s3_prefix, file_name])\n",
    "print(source_path)"
   ]
  },
  {
   "cell_type": "markdown",
   "id": "ef7dc40b",
   "metadata": {},
   "source": [
    "## Exercise: Launch a processing job through the SciKitLearn interface. "
   ]
  },
  {
   "cell_type": "markdown",
   "id": "b203fea5",
   "metadata": {},
   "source": [
    "We'll be utilizing the SKLearnProcessor object from SageMaker to launch a\n",
    "processing job. Here is some information you'll need to complete the exercise:\n",
    "\n",
    "* You will need to use the SKLearnProcessor object.\n",
    "* You will need 1 instance of ml.m5.large. You can specify this programatically.\n",
    "* You will need an execution role.\n",
    "\n",
    "* You will need to call the \"run\" method on the SKLearnProcessor object.\n",
    "> * You will need to specify the preprocessing code\n",
    "> * the S3 path of the unprocessed data\n",
    "> * a 'local' directory path for the input to be downloaded into\n",
    "> * 'local' directory paths for where you expect the output to be.\n",
    "\n",
    "you will need to make use of the `ProcessingInput` and `ProcessingOutput`\n",
    "features. Review the preprocessing code for where the output is going to go,\n",
    "and where it expects the input to come from.\n",
    "* It is highly recommended that you consult the documentation to help you\n",
    "  implement this: https://docs.aws.amazon.com/sagemaker/latest/dg/processing-job.html\n",
    "\n",
    "Remember that, conceptually, you are creating a server that our code will be\n",
    "run from. This server will download data, execute code that we specify, and\n",
    "upload data to s3.\n",
    "\n",
    "If done successfully, you should see a processing job launch in the SageMaker\n",
    "console. To see it, go to the \"processing\" drop-down menu on the left-hand\n",
    "side and select \"processing jobs.\" Wait until the job is finished."
   ]
  },
  {
   "cell_type": "code",
   "execution_count": null,
   "id": "bcc88fb2",
   "metadata": {},
   "outputs": [],
   "source": [
    "from sagemaker import get_execution_role\n",
    "from sagemaker.sklearn.processing import SKLearnProcessor\n",
    "from sagemaker.processing import ProcessingInput, ProcessingOutput\n",
    "\n",
    "# Get role\n",
    "\n",
    "role = \n",
    "\n",
    "# Create an SKLearnProcessor. Set framework_version='0.20.0'.\n",
    "\n",
    "sklearn_processor = \n",
    "\n",
    "# Start a run job. You will pass in as parameters the local location of the processing code, \n",
    "# a processing input object, two processing output objects. The paths that you pass in here are directories, \n",
    "# not the files themselves. Check the preprocessing code for a hint about what these directories should be. \n",
    "\n",
    "sklearn_processor.run(code= , # preprocessing code\n",
    "                      inputs=[ProcessingInput(\n",
    "                          source = , # the S3 path of the unprocessed data\n",
    "                          destination= , # a 'local' directory path for the input to be downloaded into\n",
    "                      )],\n",
    "                      outputs=[ProcessingOutput(source= ),# a 'local' directory path for where you expect the output for train data to be\n",
    "                               ProcessingOutput(source= )]) # a 'local' directory path for where you expect the output for test data to be "
   ]
  },
  {
   "cell_type": "markdown",
   "id": "ca1bc4af",
   "metadata": {},
   "source": [
    "## Exercise: Sanity Check & Reflection"
   ]
  },
  {
   "cell_type": "markdown",
   "id": "5f803831",
   "metadata": {},
   "source": [
    "If all goes well, processed data should have been uploaded to S3. If you're\n",
    "having trouble locating the URI, check the `jobs` attribute of the\n",
    "`SKLearnProcessor` object."
   ]
  },
  {
   "cell_type": "code",
   "execution_count": null,
   "id": "9085ce33",
   "metadata": {},
   "outputs": [],
   "source": [
    "sklearn_processor.jobs[-1].describe()"
   ]
  },
  {
   "cell_type": "markdown",
   "id": "ce50c48a",
   "metadata": {},
   "source": [
    "Download these datasets and compare them to the datasets that we locally\n",
    "processed. The exact sentences in the training & the test sets may vary\n",
    "depending on your implementation, but the same number of sentences should be\n",
    "present in each job, and there should be one label and one sentence per line.\n",
    "\n",
    "Once you've confirmed that the data was accurately processed, take a step back\n",
    "and reflect on what you've done. You've created the individual components\n",
    "necessary to process data, train data, and perform inference on both\n",
    "individual instances of data and large datasets. What are we missing if we\n",
    "wanted to provide a live, continuous service? Keep this question in mind as we\n",
    "move on to designing workflows."
   ]
  }
 ],
 "metadata": {
  "kernelspec": {
   "display_name": "Python 3 (ipykernel)",
   "language": "python",
   "name": "python3"
  },
  "language_info": {
   "codemirror_mode": {
    "name": "ipython",
    "version": 3
   },
   "file_extension": ".py",
   "mimetype": "text/x-python",
   "name": "python",
   "nbconvert_exporter": "python",
   "pygments_lexer": "ipython3",
   "version": "3.10.13"
  }
 },
 "nbformat": 4,
 "nbformat_minor": 5
}
