{
 "cells": [
  {
   "cell_type": "markdown",
   "id": "ef5663d3-960d-4562-b2a6-6e7777f3fe3a",
   "metadata": {},
   "source": [
    "# Introduction to Machine Learning Engineering"
   ]
  },
  {
   "cell_type": "markdown",
   "id": "389928a4-d07e-467b-b2ab-fcef609a6a90",
   "metadata": {},
   "source": [
    "<img src=\"../assets/sagemaker.png\" alt=\"SageMaker\" width=\"100%\">"
   ]
  },
  {
   "cell_type": "markdown",
   "id": "f293ed1c-72f7-4b62-b8fc-1f0ba8da4063",
   "metadata": {},
   "source": [
    "SageMaker is a set of interconnected microservices.\n",
    "\n",
    "`Processing Job` > `Training Job` > `Endpoint` > `Batch Transformation`"
   ]
  },
  {
   "cell_type": "markdown",
   "id": "8f798d0b-f9f5-43d6-a12e-9427caf53be4",
   "metadata": {},
   "source": [
    "## Processing Job"
   ]
  },
  {
   "cell_type": "markdown",
   "id": "48fb52a8-dc16-4ffa-99b4-5bbe2837eac9",
   "metadata": {},
   "source": [
    "A processing job is a compute job that performs a processing operation on data."
   ]
  },
  {
   "cell_type": "markdown",
   "id": "0e0815d7-e2e1-4975-a09f-85d50de4e358",
   "metadata": {},
   "source": [
    "## Training Jobs"
   ]
  },
  {
   "cell_type": "markdown",
   "id": "0f5859e3-6627-4e74-9720-f552b4654fa2",
   "metadata": {},
   "source": [
    "Requirements:\n",
    "\n",
    "- S3 location with input data.\n",
    "- S3 location for output.\n",
    "- ECR for the container with the training code.\n",
    "- Compute resources\n",
    "- Metadata"
   ]
  },
  {
   "cell_type": "markdown",
   "id": "a88f97a3-cb1e-42e3-b6d7-5562ad2de3e1",
   "metadata": {},
   "source": [
    "### Distributed Training\n",
    "\n",
    "- **Data Parallel Training**: Split massive data load.\n",
    "- **Model Parallel Training**: Split high complexity algorithms."
   ]
  },
  {
   "cell_type": "markdown",
   "id": "7ab2e6f7-d18c-448d-876f-b8fbcc918df9",
   "metadata": {},
   "source": [
    "- Script mode: Leverage SageMaker's managed infrastructure, but\n",
    "  self-managed algorithm.\n",
    "- Custom image: Leverage AWS-managed infrastructure (OS and hardware), but\n",
    "  self-managed image implementation."
   ]
  },
  {
   "cell_type": "markdown",
   "id": "fbb61b2d-68d5-4bf0-82c5-d746db0dabca",
   "metadata": {},
   "source": [
    "## Endpoints"
   ]
  },
  {
   "cell_type": "markdown",
   "id": "acb1561d-4b68-4e8e-b68c-fd7626437507",
   "metadata": {},
   "source": [
    "Endpoints are the interface to the model in production. We send user data\n",
    "through a `POST` request to create a prediction (inference)."
   ]
  },
  {
   "cell_type": "markdown",
   "id": "fab4e0e3-9850-40f6-9fe8-efefc7241fe8",
   "metadata": {},
   "source": [
    "## Batch Transformation"
   ]
  },
  {
   "cell_type": "markdown",
   "id": "965f26ec-3fc7-4849-8525-279bb7abcda0",
   "metadata": {},
   "source": [
    "It's possible to make inference in a large dataset using batch inference\n",
    "(without endpoint). By default it's parallelized by file, but it's possibe\n",
    "to split by line."
   ]
  },
  {
   "cell_type": "markdown",
   "id": "3d861879-f847-4efc-acb6-d6fdb8669417",
   "metadata": {},
   "source": [
    "---"
   ]
  },
  {
   "cell_type": "markdown",
   "id": "e77fdfbd-32af-4625-a469-defcfc952a6d",
   "metadata": {},
   "source": [
    "## Exercises"
   ]
  },
  {
   "cell_type": "markdown",
   "id": "263e5e6a-6c3c-42d1-bf15-654637a0bc9b",
   "metadata": {},
   "source": [
    "15. **Training Jobs**: This exercise is focused on practicing the creation of\n",
    "    Amazon SageMakers' training jobs.\n",
    "16. **Endpoint**: After training, the output (model artifact) is saved in S3,\n",
    "    and used by the endpoint to make inferences.\n",
    "17. **Batch Transform**: After the training, the batch transformation job can\n",
    "    be used to perform inferences on multiple data simultaneously.\n",
    "18. **Processing Job**: Create a processing job to format data before using in\n",
    "    training and inference.\n",
    "19. **Trying It All Together**: Put all previous concepts into practice."
   ]
  }
 ],
 "metadata": {
  "kernelspec": {
   "display_name": "Python 3 (ipykernel)",
   "language": "python",
   "name": "python3"
  },
  "language_info": {
   "codemirror_mode": {
    "name": "ipython",
    "version": 3
   },
   "file_extension": ".py",
   "mimetype": "text/x-python",
   "name": "python",
   "nbconvert_exporter": "python",
   "pygments_lexer": "ipython3",
   "version": "3.10.13"
  }
 },
 "nbformat": 4,
 "nbformat_minor": 5
}
